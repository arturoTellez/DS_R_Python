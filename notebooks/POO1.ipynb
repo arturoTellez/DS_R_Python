{
 "cells": [
  {
   "cell_type": "markdown",
   "metadata": {},
   "source": [
    "[![Open In Colab](https://colab.research.google.com/assets/colab-badge.svg)](https://colab.research.google.com/github/arturoTellez/DS_R_Python/blob/main/notebooks/POO1.ipynb)"
   ]
  },
  {
   "cell_type": "code",
   "execution_count": 6,
   "metadata": {},
   "outputs": [
    {
     "name": "stdout",
     "output_type": "stream",
     "text": [
      "[1]\n",
      "[1, 1]\n"
     ]
    }
   ],
   "source": [
    "## Ejemplo de función para conocer importancia de tuplas\n",
    "def prueba(i = []):\n",
    "   i.append(1)\n",
    "   print(i)\n",
    "\n",
    "prueba() #[1] i = []\n",
    "prueba() #[1] i = [1]\n",
    "# prueba() #[1] i = [1, 1]\n",
    "# prueba() #[1]\n",
    "# prueba() #[1]\n",
    "# prueba() #[1]\n",
    "# prueba() #[1]\n",
    "# prueba() #[1]"
   ]
  },
  {
   "cell_type": "code",
   "execution_count": 10,
   "metadata": {},
   "outputs": [
    {
     "name": "stdout",
     "output_type": "stream",
     "text": [
      "[1]\n",
      "[1]\n"
     ]
    }
   ],
   "source": [
    "## Ejemplo de función para conocer importancia de tuplas\n",
    "def prueba(i = None):\n",
    "    if i is None:\n",
    "        i = []\n",
    "    i.append(1)\n",
    "    print(i)\n",
    "prueba() #[1] i = []\n",
    "prueba() #[1] i = []"
   ]
  },
  {
   "cell_type": "code",
   "execution_count": 14,
   "metadata": {},
   "outputs": [
    {
     "name": "stdout",
     "output_type": "stream",
     "text": [
      "Iniciando llamada\n",
      "Se terminó la llamada\n"
     ]
    }
   ],
   "source": [
    "# Métodos\n",
    "class Celular(object):\n",
    "    def llamar(self):\n",
    "        print(\"Iniciando llamada\")\n",
    "\n",
    "    def colgar(self):\n",
    "        print(\"Se terminó la llamada\")\n",
    "\n",
    "\n",
    "mi_cel = Celular()\n",
    "mi_cel2 = Celular()\n",
    "\n",
    "mi_cel.llamar()\n",
    "\n",
    "\n",
    "mi_cel.colgar()\n"
   ]
  },
  {
   "cell_type": "code",
   "execution_count": 23,
   "metadata": {},
   "outputs": [
    {
     "name": "stdout",
     "output_type": "stream",
     "text": [
      "en modo ahorro de energía\n",
      "en modo ahorro de energía\n",
      "Iniciando llamada\n",
      "en llamada\n",
      "en modo ahorro de energía\n"
     ]
    }
   ],
   "source": [
    "# Atributos\n",
    "\n",
    "\n",
    "class Celular(object):\n",
    "\n",
    "\n",
    "    estado = \"en modo ahorro de energía\"\n",
    "    marca = \"Nokia\"\n",
    "\n",
    "\n",
    "    def llamar(self):\n",
    "\n",
    "\n",
    "        self.estado = \"en llamada\"\n",
    "\n",
    "\n",
    "        print(\"Iniciando llamada\")\n",
    "\n",
    "\n",
    "    def colgar(self):\n",
    "\n",
    "\n",
    "        self.estado = \"en modo ahorro de energía\"\n",
    "\n",
    "\n",
    "        print(\"Se termino la llamada\")\n",
    "\n",
    "\n",
    "### Crear una clase de tu comida favorita\n",
    "\n",
    "\n",
    "mi_cel = Celular()\n",
    "\n",
    "\n",
    "print(mi_cel.estado)\n",
    "\n",
    "\n",
    "mi_cel2 = Celular()\n",
    "\n",
    "\n",
    "print(mi_cel2.estado)\n",
    "\n",
    "mi_cel2.llamar()\n",
    "\n",
    "\n",
    "print(mi_cel2.estado)\n",
    "print(mi_cel.estado)\n",
    "\n"
   ]
  },
  {
   "cell_type": "code",
   "execution_count": 25,
   "metadata": {},
   "outputs": [],
   "source": [
    "# Constructor\n",
    "\n",
    "\n",
    "class Celular(object):\n",
    "\n",
    "\n",
    "   def __init__(self, marca, estado):\n",
    "\n",
    "\n",
    "       self.marca = marca\n",
    "\n",
    "\n",
    "       self.estado = estado\n",
    "\n",
    "\n",
    "   def llamar(self):\n",
    "\n",
    "\n",
    "       self.estado = \"en llamada\"\n",
    "\n",
    "\n",
    "       print(\"Iniciando llamada\")\n",
    "\n",
    "\n",
    "   def colgar(self):\n",
    "\n",
    "\n",
    "       self.estado = \"en modo ahorro de energía\"\n",
    "\n",
    "\n",
    "       print(\"Se termino la llamada\")\n",
    "\n",
    "\n",
    "mi_cel = Celular(\"Xiaomi\", \"en modo ahorro de energía\")\n",
    "\n",
    "\n",
    "mi_cel2 = Celular(\"Nokia\", \"en llamada\")\n",
    "\n"
   ]
  },
  {
   "cell_type": "code",
   "execution_count": 30,
   "metadata": {},
   "outputs": [
    {
     "data": {
      "text/plain": [
       "'Xiaomi'"
      ]
     },
     "execution_count": 30,
     "metadata": {},
     "output_type": "execute_result"
    }
   ],
   "source": [
    "mi_cel.marca"
   ]
  },
  {
   "cell_type": "code",
   "execution_count": 29,
   "metadata": {},
   "outputs": [
    {
     "data": {
      "text/plain": [
       "'Nokia'"
      ]
     },
     "execution_count": 29,
     "metadata": {},
     "output_type": "execute_result"
    }
   ],
   "source": [
    "mi_cel2.marca"
   ]
  },
  {
   "cell_type": "code",
   "execution_count": null,
   "metadata": {},
   "outputs": [],
   "source": [
    "\n",
    "# Sintaxis de Clases\n",
    "\n",
    "\n",
    "class Clase(object):\n",
    "   pass\n",
    "\n",
    "\n",
    "\n",
    "\n",
    "\n",
    "\n",
    "\n",
    "# usar self.i como contador\n",
    "\n",
    "\n",
    "class Acumulador(object):\n",
    "\n",
    "\n",
    "   def __init__(self):\n",
    "\n",
    "\n",
    "       pass\n",
    "\n",
    "\n",
    "       #TODO\n",
    "\n",
    "\n",
    "   def sumar_una_unidad(self):\n",
    "\n",
    "\n",
    "       pass\n",
    "\n",
    "\n",
    "       #TODO\n",
    "\n",
    "\n",
    "   def resta_una_unidad(self):\n",
    "\n",
    "\n",
    "       pass\n",
    "\n",
    "\n",
    "       #TODO\n",
    "\n",
    "\n",
    "   def mostar_acumulador(self):\n",
    "\n",
    "\n",
    "       pass\n",
    "\n",
    "\n",
    "       #TODO  \n",
    "\n",
    "\n",
    "#Ejercicio guiado volver nuestro código de registro de usuarios visto en clase a la forma orientada a objetos\n",
    "\n",
    "\n",
    "# Ejercicio en clase crea el objeto producto,\n",
    "\n",
    "\n",
    "# a partir de diferentes métodos crea las siguientes acciones:\n",
    "\n",
    "\n",
    "# Definir un precio sin iva inicial del producto (Constructor) ok\n",
    "\n",
    "\n",
    "# Modificar el precio actual del producto ok\n",
    "\n",
    "\n",
    "# Comprar el MISMO producto y agregar al carrito ok\n",
    "\n",
    "\n",
    "# Mostrar precio con iva del producto ok\n",
    "\n",
    "\n",
    "# Mostrar el impuesto, subtotal y total de la cantidad de productos agregados al carrito\n",
    "\n",
    "\n"
   ]
  }
 ],
 "metadata": {
  "kernelspec": {
   "display_name": "Python 3",
   "language": "python",
   "name": "python3"
  },
  "language_info": {
   "codemirror_mode": {
    "name": "ipython",
    "version": 3
   },
   "file_extension": ".py",
   "mimetype": "text/x-python",
   "name": "python",
   "nbconvert_exporter": "python",
   "pygments_lexer": "ipython3",
   "version": "3.8.7"
  }
 },
 "nbformat": 4,
 "nbformat_minor": 4
}

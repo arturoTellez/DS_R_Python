{
 "cells": [
  {
   "cell_type": "markdown",
   "metadata": {},
   "source": [
    "### Mi primer Notebook\n",
    "\n",
    "objetivo: conocer python  \n",
    "implemento: Arturo Téllez"
   ]
  },
  {
   "cell_type": "code",
   "execution_count": 4,
   "metadata": {},
   "outputs": [
    {
     "name": "stdout",
     "output_type": "stream",
     "text": [
      "7\n",
      "0\n",
      "2.0\n",
      "2\n",
      "32\n",
      "256\n"
     ]
    },
    {
     "data": {
      "text/plain": [
       "24"
      ]
     },
     "execution_count": 4,
     "metadata": {},
     "output_type": "execute_result"
    }
   ],
   "source": [
    "print(3+4)\n",
    "print(4-4)\n",
    "print(2/1)\n",
    "print(2//1)\n",
    "print(2*16)\n",
    "print(2**8) # diff con R \"^\"\n",
    "\n",
    "24\n",
    "\n"
   ]
  },
  {
   "cell_type": "code",
   "execution_count": 8,
   "metadata": {},
   "outputs": [
    {
     "data": {
      "text/plain": [
       "256"
      ]
     },
     "execution_count": 8,
     "metadata": {},
     "output_type": "execute_result"
    }
   ],
   "source": [
    "pow(2, 8) # 2 ** 8"
   ]
  },
  {
   "cell_type": "code",
   "execution_count": 9,
   "metadata": {},
   "outputs": [
    {
     "data": {
      "text/plain": [
       "12"
      ]
     },
     "execution_count": 9,
     "metadata": {},
     "output_type": "execute_result"
    }
   ],
   "source": [
    "abs(-12)"
   ]
  },
  {
   "cell_type": "code",
   "execution_count": 19,
   "metadata": {},
   "outputs": [
    {
     "data": {
      "text/plain": [
       "2"
      ]
     },
     "execution_count": 19,
     "metadata": {},
     "output_type": "execute_result"
    }
   ],
   "source": [
    "round(2.5)"
   ]
  },
  {
   "cell_type": "markdown",
   "metadata": {},
   "source": [
    "### Diferencias con R"
   ]
  },
  {
   "cell_type": "code",
   "execution_count": 14,
   "metadata": {},
   "outputs": [
    {
     "data": {
      "text/plain": [
       "[1, 2, 1, 0]"
      ]
     },
     "execution_count": 14,
     "metadata": {},
     "output_type": "execute_result"
    }
   ],
   "source": [
    "#[1,2,3] - [1,3,4] #!error\n",
    "[1, 2 ,3] * 7 #[1, 2, 3, 1, 2, 3, 1, 2, 3, 1, 2, 3, 1, 2, 3, 1, 2, 3, 1, 2, 3]\n",
    "[1, 2] + [1, 0]  #[1, 2, 1, 0]"
   ]
  },
  {
   "cell_type": "code",
   "execution_count": 16,
   "metadata": {},
   "outputs": [
    {
     "data": {
      "text/plain": [
       "2"
      ]
     },
     "execution_count": 16,
     "metadata": {},
     "output_type": "execute_result"
    }
   ],
   "source": [
    "lista = [1,2,4,5]\n",
    "lista[1] #iniciamos con el indice 0"
   ]
  },
  {
   "cell_type": "code",
   "execution_count": 18,
   "metadata": {},
   "outputs": [
    {
     "data": {
      "text/plain": [
       "[2, 4]"
      ]
     },
     "execution_count": 18,
     "metadata": {},
     "output_type": "execute_result"
    }
   ],
   "source": [
    "## 1:3 no existe en python, 1:3 si puede ser pasado para seleccionar elementos de una lista/tupla\n",
    "lista[1:3] # ¡no devuelve el indice 3!"
   ]
  },
  {
   "cell_type": "markdown",
   "metadata": {},
   "source": [
    "### String"
   ]
  },
  {
   "cell_type": "code",
   "execution_count": 23,
   "metadata": {},
   "outputs": [
    {
     "data": {
      "text/plain": [
       "'texto'"
      ]
     },
     "execution_count": 23,
     "metadata": {},
     "output_type": "execute_result"
    }
   ],
   "source": [
    "'texto'"
   ]
  },
  {
   "cell_type": "code",
   "execution_count": 24,
   "metadata": {},
   "outputs": [
    {
     "data": {
      "text/plain": [
       "'texto'"
      ]
     },
     "execution_count": 24,
     "metadata": {},
     "output_type": "execute_result"
    }
   ],
   "source": [
    "\"texto\""
   ]
  },
  {
   "cell_type": "code",
   "execution_count": 26,
   "metadata": {},
   "outputs": [
    {
     "data": {
      "text/plain": [
       "'\"Hola a todos\"'"
      ]
     },
     "execution_count": 26,
     "metadata": {},
     "output_type": "execute_result"
    }
   ],
   "source": [
    "'\"Hola a todos\"'"
   ]
  },
  {
   "cell_type": "code",
   "execution_count": 38,
   "metadata": {},
   "outputs": [
    {
     "data": {
      "text/plain": [
       "\"'Hola a todos'\""
      ]
     },
     "execution_count": 38,
     "metadata": {},
     "output_type": "execute_result"
    }
   ],
   "source": [
    "\"'Hola a todos'\""
   ]
  },
  {
   "cell_type": "code",
   "execution_count": 39,
   "metadata": {},
   "outputs": [
    {
     "ename": "SyntaxError",
     "evalue": "EOL while scanning string literal (<ipython-input-39-46c7bc7f44fc>, line 1)",
     "output_type": "error",
     "traceback": [
      "\u001b[1;36m  File \u001b[1;32m\"<ipython-input-39-46c7bc7f44fc>\"\u001b[1;36m, line \u001b[1;32m1\u001b[0m\n\u001b[1;33m    \"Hola\u001b[0m\n\u001b[1;37m         ^\u001b[0m\n\u001b[1;31mSyntaxError\u001b[0m\u001b[1;31m:\u001b[0m EOL while scanning string literal\n"
     ]
    }
   ],
   "source": [
    "# \"Hola\n",
    "# #el interprete solo ve la primer linea\n",
    "# Mundo\n",
    "# \""
   ]
  },
  {
   "cell_type": "code",
   "execution_count": 40,
   "metadata": {},
   "outputs": [
    {
     "data": {
      "text/plain": [
       "'\\nHola\\nMundo\\n'"
      ]
     },
     "execution_count": 40,
     "metadata": {},
     "output_type": "execute_result"
    }
   ],
   "source": [
    "### Texto multilinea\n",
    "\"\"\"\n",
    "\n",
    "\n",
    "\n",
    "\n",
    "\n",
    "\n",
    "\n",
    "\n",
    "Hola\n",
    "Mundo\n",
    "\"\"\"\n",
    "\n",
    "\n",
    "'''\n",
    "Hola\n",
    "Mundo\n",
    "''' # es lo que se muestra"
   ]
  },
  {
   "cell_type": "code",
   "execution_count": 48,
   "metadata": {},
   "outputs": [
    {
     "data": {
      "text/plain": [
       "'El resultado es: 10'"
      ]
     },
     "execution_count": 48,
     "metadata": {},
     "output_type": "execute_result"
    }
   ],
   "source": [
    "\"El resultado es: \" + str(10)"
   ]
  },
  {
   "cell_type": "code",
   "execution_count": 45,
   "metadata": {},
   "outputs": [
    {
     "name": "stdout",
     "output_type": "stream",
     "text": [
      "Inicializando i con un valor de 1\n",
      "Sumamos una unidad\n",
      "El resultado es:2\n",
      "Restamos una unidad\n",
      "El resultado es:1\n",
      "Multiplicar una unidad\n",
      "El resultado es:5\n",
      "Dividir una unidad\n",
      "El resultado es:0.5\n",
      "Potencia una unidad\n",
      "El resultado es:0.25\n",
      "Modulo una unidad\n",
      "El resultado es:0.0\n",
      "División entera una unidad\n",
      "El resultado es:3\n",
      "El resultado es: {} texto adicional: {}\n",
      "El resultado es: \"10\" texto adicional: 8\n",
      "El resultado es: {} texto adicional: {}\n",
      "El resultado es: 3 texto adicional: 10\n",
      "El resultado es: {var2} texto adicional: {var1}\n",
      "El resultado es: 3 texto adicional: 8.5\n",
      "El resultado es: 10 texto adicional: 3\n",
      "x tiene: 10\n",
      "x tiene: 11\n",
      "Bienvenido ARTURO Tellez\n",
      "\n",
      "Texto en\n",
      "Multiples\n",
      "lineas\n",
      "\n",
      "5 es un entero <class 'int'>\n",
      "'5' es un string <class 'str'>\n",
      "True es un bool <class 'bool'>\n",
      "3.33333 es un float <class 'float'>\n",
      "5 es un entero <class 'int'>\n"
     ]
    }
   ],
   "source": [
    "### Python no tiene i++, pero...\n",
    "print(\"Inicializando i con un valor de 1\")\n",
    "i = 1\n",
    "print(\"Sumamos una unidad\")\n",
    "i += 1 # i=i+1\n",
    "print(\"El resultado es:\" + str(i))\n",
    "\n",
    "print(\"Restamos una unidad\")\n",
    "i -= 1 # i=i-1\n",
    "print(\"El resultado es:\" + str(i))\n",
    "\n",
    "print(\"Multiplicar una unidad\")\n",
    "i *= 5 #i = i * 5\n",
    "print(\"El resultado es:\" + str(i))\n",
    "\n",
    "print(\"Dividir una unidad\")\n",
    "i /= 10\n",
    "print(\"El resultado es:\" + str(i))\n",
    "\n",
    "print(\"Potencia una unidad\")\n",
    "i **= 2\n",
    "print(\"El resultado es:\" + str(i))\n",
    "\n",
    "print(\"Modulo una unidad\")\n",
    "i *= 8\n",
    "i %= 2\n",
    "print(\"El resultado es:\" + str(i))\n",
    "\n",
    "i = 10\n",
    "print(\"División entera una unidad\")\n",
    "i //= 3\n",
    "print(\"El resultado es:\" + str(i))\n",
    "\n"
   ]
  },
  {
   "cell_type": "code",
   "execution_count": 49,
   "metadata": {},
   "outputs": [
    {
     "name": "stdout",
     "output_type": "stream",
     "text": [
      "El resultado es: {} texto adicional: {}\n",
      "El resultado es: \"10\" texto adicional: 8\n",
      "El resultado es: {} texto adicional: {}\n",
      "El resultado es: 3 texto adicional: 10\n"
     ]
    }
   ],
   "source": [
    "### Posición\n",
    "j = 10\n",
    "texto_resultado = \"El resultado es: {} texto adicional: {}\"\n",
    "print(texto_resultado)\n",
    "print(texto_resultado.format('\"10\"',8))\n",
    "print(texto_resultado)\n",
    "texto_resultado = texto_resultado.format(i, j)\n",
    "print(texto_resultado)"
   ]
  },
  {
   "cell_type": "code",
   "execution_count": 53,
   "metadata": {},
   "outputs": [
    {
     "name": "stdout",
     "output_type": "stream",
     "text": [
      "El resultado es: {var2} texto adicional: {var1}\n",
      "El resultado es: 3 texto adicional: 8.5\n",
      "El resultado es: 10 texto adicional: 3\n",
      "x tiene: 10\n",
      "y tiene: 11\n"
     ]
    }
   ],
   "source": [
    "### Nombre\n",
    "j = 10\n",
    "texto_resultado = \"El resultado es: {var2} texto adicional: {var1}\"\n",
    "print(texto_resultado)\n",
    "print(texto_resultado.format(var1 = 8.5, var2 = i))\n",
    "texto_resultado = texto_resultado.format(var1 = i, var2 = j)\n",
    "print(texto_resultado)\n",
    "\n",
    "x, y = 10, 11\n",
    "print(\"x tiene:\", x)\n",
    "print(\"y tiene:\", y)\n"
   ]
  },
  {
   "cell_type": "code",
   "execution_count": 63,
   "metadata": {},
   "outputs": [
    {
     "name": "stdout",
     "output_type": "stream",
     "text": [
      "El resultado es: {var2} texto adicional: 8.5\n"
     ]
    }
   ],
   "source": [
    "### Nombre\n",
    "j = 10\n",
    "texto_resultado = \"El resultado es: {{var2}} texto adicional: {var1}\" ##{{}} la llave será parte del string\n",
    "##resultado \n",
    "# print(texto_resultado)\n",
    "print(texto_resultado.format(var1 = 8.5))\n",
    "\n"
   ]
  },
  {
   "cell_type": "code",
   "execution_count": 65,
   "metadata": {},
   "outputs": [
    {
     "data": {
      "text/plain": [
       "'Arturo'"
      ]
     },
     "execution_count": 65,
     "metadata": {},
     "output_type": "execute_result"
    }
   ],
   "source": [
    "\n",
    "### f-strings\n",
    "nombre = \"Arturo\"\n",
    "apellido = \"Tellez\"\n",
    "#nombre = nombre.upper()\n",
    "nombre"
   ]
  },
  {
   "cell_type": "code",
   "execution_count": 68,
   "metadata": {},
   "outputs": [
    {
     "name": "stdout",
     "output_type": "stream",
     "text": [
      "Bienvenido ARTURO Tellez\n"
     ]
    }
   ],
   "source": [
    "print(f\"Bienvenido {nombre.upper()} {apellido}\")\n"
   ]
  },
  {
   "cell_type": "code",
   "execution_count": 77,
   "metadata": {},
   "outputs": [
    {
     "name": "stdout",
     "output_type": "stream",
     "text": [
      "AUX2\n",
      "Construir Empresas inteligentes\n",
      "Solución de IoT, Big Data para la industría\n",
      "\n"
     ]
    }
   ],
   "source": [
    "nombre_empresa = \"AUX2\"\n",
    "objetivo = \"Construir Empresas inteligentes\"\n",
    "que_hace = \"Solución de IoT, Big Data para la industría\"\n",
    "\n",
    "mi_empresa = f\"\"\"{nombre_empresa}\n",
    "{objetivo}\n",
    "{que_hace}\n",
    "\"\"\"\n",
    "print(mi_empresa)"
   ]
  },
  {
   "cell_type": "code",
   "execution_count": 4,
   "metadata": {},
   "outputs": [],
   "source": [
    "x = 2 + 3\n",
    "f_string = f\"{x}\""
   ]
  },
  {
   "cell_type": "code",
   "execution_count": 5,
   "metadata": {},
   "outputs": [
    {
     "data": {
      "text/plain": [
       "'5'"
      ]
     },
     "execution_count": 5,
     "metadata": {},
     "output_type": "execute_result"
    }
   ],
   "source": [
    "f_string"
   ]
  },
  {
   "cell_type": "code",
   "execution_count": 10,
   "metadata": {},
   "outputs": [
    {
     "data": {
      "text/plain": [
       "'5'"
      ]
     },
     "execution_count": 10,
     "metadata": {},
     "output_type": "execute_result"
    }
   ],
   "source": [
    "template = \"{}\"\n",
    "template.format(x)"
   ]
  },
  {
   "cell_type": "code",
   "execution_count": 11,
   "metadata": {},
   "outputs": [
    {
     "data": {
      "text/plain": [
       "'6'"
      ]
     },
     "execution_count": 11,
     "metadata": {},
     "output_type": "execute_result"
    }
   ],
   "source": [
    "template.format(x + 1)"
   ]
  },
  {
   "cell_type": "code",
   "execution_count": 12,
   "metadata": {},
   "outputs": [
    {
     "data": {
      "text/plain": [
       "'6'"
      ]
     },
     "execution_count": 12,
     "metadata": {},
     "output_type": "execute_result"
    }
   ],
   "source": [
    "template = template.format(x + 1)\n",
    "template"
   ]
  },
  {
   "cell_type": "code",
   "execution_count": 80,
   "metadata": {},
   "outputs": [
    {
     "name": "stdout",
     "output_type": "stream",
     "text": [
      "Empresa AUX2,\n",
      "Objetivo Construir Empresas inteligentes,\n",
      "Tareas Solución de IoT, Big Data para la industría\n"
     ]
    }
   ],
   "source": [
    "template = \"\"\"Empresa {},\n",
    "Objetivo {},\n",
    "Tareas {}\"\"\"\n",
    "print(template.format(nombre_empresa,objetivo, que_hace))\n"
   ]
  },
  {
   "cell_type": "code",
   "execution_count": 81,
   "metadata": {},
   "outputs": [
    {
     "name": "stdout",
     "output_type": "stream",
     "text": [
      "Empresa AUX3,\n",
      "Objetivo Construir Empresas inteligentes,\n",
      "Tareas Solución de IoT, Big Data para la industría\n"
     ]
    }
   ],
   "source": [
    "nombre_empresa = \"AUX3\"\n",
    "print(template.format(nombre_empresa,objetivo, que_hace))\n"
   ]
  },
  {
   "cell_type": "code",
   "execution_count": 76,
   "metadata": {},
   "outputs": [
    {
     "name": "stdout",
     "output_type": "stream",
     "text": [
      "AUX2\n",
      "Construir Empresas inteligentes\n",
      "Solución de IoT, Big Data para la industría\n",
      "\n"
     ]
    }
   ],
   "source": [
    "print(f\"\"\"{nombre_empresa}\n",
    "{objetivo}\n",
    "{que_hace}\n",
    "\"\"\"\n",
    "     )"
   ]
  },
  {
   "cell_type": "code",
   "execution_count": 86,
   "metadata": {},
   "outputs": [
    {
     "data": {
      "text/plain": [
       "['10', '10', '12', '0']"
      ]
     },
     "execution_count": 86,
     "metadata": {},
     "output_type": "execute_result"
    }
   ],
   "source": [
    "\"10|10|12|0\".split(\"|\")"
   ]
  },
  {
   "cell_type": "code",
   "execution_count": 19,
   "metadata": {},
   "outputs": [
    {
     "data": {
      "text/plain": [
       "['10', '10', '12', '0']"
      ]
     },
     "execution_count": 19,
     "metadata": {},
     "output_type": "execute_result"
    }
   ],
   "source": [
    "aux = \"10|10|12|0\"\n",
    "aux.replace(\"|\", \",\").split(\",\")\n"
   ]
  },
  {
   "cell_type": "code",
   "execution_count": 20,
   "metadata": {},
   "outputs": [
    {
     "name": "stdout",
     "output_type": "stream",
     "text": [
      "5 es un entero <class 'int'>\n",
      "'5' es un string <class 'str'>\n",
      "True es un bool <class 'bool'>\n",
      "3.33333 es un float <class 'float'>\n",
      "5 es un entero <class 'int'>\n"
     ]
    }
   ],
   "source": [
    "\n",
    "#### Funciones type\n",
    "print(\"5 es un entero\", type(5))\n",
    "print(\"'5' es un string\", type('5'))\n",
    "print(\"True es un bool\", type(True))\n",
    "print(\"3.33333 es un float\", type(3.33333))\n",
    "\n",
    "##Ejemplo con variables\n",
    "x = 5\n",
    "print(\"5 es un entero\", type(x))"
   ]
  },
  {
   "cell_type": "markdown",
   "metadata": {},
   "source": [
    "### Slicing de string\n"
   ]
  },
  {
   "cell_type": "code",
   "execution_count": 26,
   "metadata": {},
   "outputs": [
    {
     "data": {
      "text/plain": [
       "'ola'"
      ]
     },
     "execution_count": 26,
     "metadata": {},
     "output_type": "execute_result"
    }
   ],
   "source": [
    "texto = \"Hola Mundo\"\n",
    "texto[1:4:1]"
   ]
  },
  {
   "cell_type": "code",
   "execution_count": 25,
   "metadata": {},
   "outputs": [
    {
     "data": {
      "text/plain": [
       "'odn'"
      ]
     },
     "execution_count": 25,
     "metadata": {},
     "output_type": "execute_result"
    }
   ],
   "source": [
    "texto[-1:-4:-1]"
   ]
  },
  {
   "cell_type": "code",
   "execution_count": 28,
   "metadata": {},
   "outputs": [
    {
     "data": {
      "text/plain": [
       "'a Mundo'"
      ]
     },
     "execution_count": 28,
     "metadata": {},
     "output_type": "execute_result"
    }
   ],
   "source": [
    "texto[3:]"
   ]
  },
  {
   "cell_type": "code",
   "execution_count": 29,
   "metadata": {},
   "outputs": [
    {
     "data": {
      "text/plain": [
       "'Hola'"
      ]
     },
     "execution_count": 29,
     "metadata": {},
     "output_type": "execute_result"
    }
   ],
   "source": [
    "texto[:4]"
   ]
  },
  {
   "cell_type": "code",
   "execution_count": 30,
   "metadata": {},
   "outputs": [
    {
     "name": "stdout",
     "output_type": "stream",
     "text": [
      "True False\n",
      "True\n",
      "False\n",
      "False\n",
      "False\n"
     ]
    }
   ],
   "source": [
    "#Booleanos\n",
    "print(True, False)\n",
    "print(True and True) # True\n",
    "print(False & True )# False\n",
    "print(True & False )# False\n",
    "print(False & False )# False"
   ]
  },
  {
   "cell_type": "code",
   "execution_count": null,
   "metadata": {},
   "outputs": [],
   "source": []
  },
  {
   "cell_type": "code",
   "execution_count": null,
   "metadata": {},
   "outputs": [],
   "source": []
  }
 ],
 "metadata": {
  "kernelspec": {
   "display_name": "Python 3",
   "language": "python",
   "name": "python3"
  },
  "language_info": {
   "codemirror_mode": {
    "name": "ipython",
    "version": 3
   },
   "file_extension": ".py",
   "mimetype": "text/x-python",
   "name": "python",
   "nbconvert_exporter": "python",
   "pygments_lexer": "ipython3",
   "version": "3.8.7"
  }
 },
 "nbformat": 4,
 "nbformat_minor": 5
}

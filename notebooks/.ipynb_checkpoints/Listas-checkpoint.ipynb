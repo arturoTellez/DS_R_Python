{
 "cells": [
  {
   "cell_type": "markdown",
   "metadata": {},
   "source": [
    "[![Open In Colab](https://colab.research.google.com/assets/colab-badge.svg)](https://colab.research.google.com/github/arturoTellez/DS_R_Python/blob/main/notebooks/Listas.ipynb)"
   ]
  },
  {
   "cell_type": "code",
   "execution_count": 1,
   "metadata": {},
   "outputs": [
    {
     "name": "stdout",
     "output_type": "stream",
     "text": [
      "la variable mi_primer_lista es del tipo:  <class 'list'>\n",
      "la variable mi_primer_tupe es del tipo:  <class 'tuple'>\n",
      "Cambiando una tupla a lista\n",
      "[1, 3.1416, 'Hola mundo']\n",
      "(1, 3.1416, 'Hola Mundo')\n"
     ]
    }
   ],
   "source": [
    "### Listas\n",
    "# Listas ? <- por qué ### o #\n",
    "\n",
    "mi_primer_lista = [1,3.1416, \"Hola Mundo\"]\n",
    "print(\"la variable mi_primer_lista es del tipo: \", type(mi_primer_lista))\n",
    "mi_primer_tupla = (1, 3.1416, \"Hola mundo\")\n",
    "print(\"la variable mi_primer_tupe es del tipo: \", type(mi_primer_tupla))\n",
    "print(\"Cambiando una tupla a lista\")\n",
    "print(list(mi_primer_tupla))\n",
    "print(tuple(mi_primer_lista))"
   ]
  },
  {
   "cell_type": "code",
   "execution_count": 2,
   "metadata": {},
   "outputs": [
    {
     "name": "stdout",
     "output_type": "stream",
     "text": [
      "[0, 2]\n"
     ]
    }
   ],
   "source": [
    "###Asigna la referencia a Y\n",
    "x = [1, 2] #Se crea la variable x, con una lista de \n",
    "#[1,2]\n",
    "y = x\n",
    "y[0] = 0\n",
    "print(x)\n"
   ]
  },
  {
   "cell_type": "code",
   "execution_count": 3,
   "metadata": {},
   "outputs": [
    {
     "name": "stdout",
     "output_type": "stream",
     "text": [
      "[1, 2]\n"
     ]
    }
   ],
   "source": [
    "###Asigna el valor de x a y\n",
    "x = [1, 2] #Se crea la variable x, con una lista de \n",
    "#[1,2]\n",
    "y = x.copy()\n",
    "x[0] = 0\n",
    "print(y)\n",
    "\n"
   ]
  },
  {
   "cell_type": "code",
   "execution_count": 6,
   "metadata": {},
   "outputs": [
    {
     "data": {
      "text/plain": [
       "[1, 2, 3, [1, 3]]"
      ]
     },
     "execution_count": 6,
     "metadata": {},
     "output_type": "execute_result"
    }
   ],
   "source": [
    "#append\n",
    "mi_lista_1 = [1, 2, 3]\n",
    "mi_lista_2 = [1, 3]\n",
    "mi_lista_1.append( mi_lista_2)\n",
    "# mi_lista_1[3][0]\n",
    "# mi_lista_1[3][1]\n",
    "mi_lista_1"
   ]
  },
  {
   "cell_type": "code",
   "execution_count": 8,
   "metadata": {},
   "outputs": [],
   "source": [
    "x = [\n",
    "    [1,2],\n",
    "    [1,3]\n",
    "]"
   ]
  },
  {
   "cell_type": "code",
   "execution_count": 10,
   "metadata": {},
   "outputs": [
    {
     "data": {
      "text/plain": [
       "[1, 2, [1, [3, 3]]]"
      ]
     },
     "execution_count": 10,
     "metadata": {},
     "output_type": "execute_result"
    }
   ],
   "source": [
    "x = [\n",
    "    1,\n",
    "    2,\n",
    "    [1, [3,3]]\n",
    "]\n",
    "x"
   ]
  },
  {
   "cell_type": "code",
   "execution_count": 17,
   "metadata": {},
   "outputs": [
    {
     "data": {
      "text/plain": [
       "3"
      ]
     },
     "execution_count": 17,
     "metadata": {},
     "output_type": "execute_result"
    }
   ],
   "source": [
    "x[2][1][0]"
   ]
  },
  {
   "cell_type": "code",
   "execution_count": null,
   "metadata": {},
   "outputs": [],
   "source": [
    "\n",
    "\n",
    "print(\"Resultado de hacer append de una lista [1, 2, 3] con [1, 3]:\",mi_lista_1)\n"
   ]
  },
  {
   "cell_type": "code",
   "execution_count": 18,
   "metadata": {},
   "outputs": [
    {
     "name": "stdout",
     "output_type": "stream",
     "text": [
      "[1, 2, 3, 1, 3]\n"
     ]
    }
   ],
   "source": [
    "#extend\n",
    "mi_lista_1 = [1, 2, 3]\n",
    "mi_lista_2 = [1, 3]\n",
    "mi_lista_1.extend(mi_lista_2)\n",
    "print(mi_lista_1 )"
   ]
  },
  {
   "cell_type": "code",
   "execution_count": 20,
   "metadata": {},
   "outputs": [],
   "source": [
    "mi_lista_1.remove(3)"
   ]
  },
  {
   "cell_type": "code",
   "execution_count": 21,
   "metadata": {},
   "outputs": [
    {
     "data": {
      "text/plain": [
       "[1, 2, 1, 3]"
      ]
     },
     "execution_count": 21,
     "metadata": {},
     "output_type": "execute_result"
    }
   ],
   "source": [
    "mi_lista_1"
   ]
  },
  {
   "cell_type": "code",
   "execution_count": null,
   "metadata": {},
   "outputs": [],
   "source": [
    "\n",
    "\n",
    "\n",
    "### Crear mi documentación\n",
    "# ctrl + } # Sublime, notebooks\n",
    "# ctrl + shift + 7 # VS\n",
    "\"\"\" \n",
    "omite este código \n",
    "\"\"\" \n",
    "# puedes usar strings para documentar\n",
    "# linea_codigo\n",
    "#remove\n",
    "u = 2\n",
    "mi_lista_1.remove(u) #ELIMINA EL PRIMER 2\n",
    "print(mi_lista_1)\n",
    "mi_lista_1 = [1, 2, 3]\n",
    "mi_lista_2 = [1, 3]\n",
    "mi_lista_1.append( mi_lista_2)\n",
    "\n",
    "\n",
    "\n",
    "#count\n",
    "mi_lista_1.count(3)\n",
    "\n",
    "# reverse\n",
    "mi_lista_1 = [1, 2, 3, [1, 3], 3]\n",
    "#aplican  reverse y [::-1]\n",
    "#Resultado\n",
    "#[1, 2, 3, [1, 3], 3]\n",
    "mi_lista_1[::-1].reverse()\n",
    "#mi_lista_1.reverse()[::-1] #error\n",
    "#mi_lista_1.reverse() regresa None\n",
    "print(\"La lista original era:\", mi_lista_1)\n",
    "mi_lista_1.reverse()\n",
    "print(mi_lista_1)\n",
    "print(\"Despues de aplicar reverse:\", mi_lista_1)\n",
    "\n",
    "# insert\n",
    "print(\"La lista original era:\", mi_lista_1)\n",
    "mi_lista_1.insert(2, \"texto\")\n",
    "print(\"Despues de aplicar insert:\", mi_lista_1)\n",
    "\n",
    "\n",
    "# pop\n",
    "print(\"La lista original era:\", mi_lista_1)\n",
    "contenido_lista = mi_lista_1.pop(2)\n",
    "print(\"Despues de aplicar pop:\", mi_lista_1)\n",
    "\n",
    "\n",
    "\n",
    "# sort\n",
    "print(\"La lista original era:\", mi_lista_1)\n",
    "mi_lista_1.remove([1,3]) ## opción para quitar lista\n",
    "print(\"Despues de aplicar remove:\", mi_lista_1)\n",
    "\n",
    "mi_lista_1.pop(3)\n",
    "print(\"La lista original era:\", mi_lista_1)\n",
    "mi_lista_1.sort()\n",
    "print(\"Despues de aplicar sort:\", mi_lista_1)\n",
    "# mi_lista_1.reverse()\n",
    "mi_lista_1[::-1]\n",
    "\n",
    "mi_lista_1 = [\"a\", \"b\", \"c\"]\n",
    "mi_lista_1.sort()\n",
    "mi_lista_1[::-1]\n",
    "\n",
    "\n",
    "\n"
   ]
  },
  {
   "cell_type": "code",
   "execution_count": 22,
   "metadata": {},
   "outputs": [
    {
     "name": "stdout",
     "output_type": "stream",
     "text": [
      "[1, 2, 3, [1, 3]]\n",
      "2\n"
     ]
    }
   ],
   "source": [
    "#index\n",
    "mi_lista_1 = [1, 2, 3]\n",
    "mi_lista_2 = [1, 3]\n",
    "mi_lista_1.append( mi_lista_2)\n",
    "print(mi_lista_1)\n",
    "#[1, 2, 3, [1, 3]]\n",
    "mi_lista_1.index(3)\n",
    "mi_lista_1.index([1, 3])\n",
    "mi_lista_1 = [1, 2, 3, [1, 3], 3]\n",
    "print(mi_lista_1.index(3))"
   ]
  },
  {
   "cell_type": "code",
   "execution_count": 27,
   "metadata": {},
   "outputs": [
    {
     "data": {
      "text/plain": [
       "[2, 2, 2, 2, 2, 2, 3]"
      ]
     },
     "execution_count": 27,
     "metadata": {},
     "output_type": "execute_result"
    }
   ],
   "source": [
    "\n",
    "### índices, otra vez!!\n",
    "# [inicio:(fin + 1):salto]\n",
    "# [inicio:(fin ):salto] va a mostrar hasta fin - 1\n",
    "\n",
    "x = [1, 2, 1, 2, 2, 1, 1, 2, 1, 2, 2, 1,3] # 13\n",
    "x[::] #todo los elemtos\n",
    "x[1::] # del elemento 1 al len(x) - 1\n",
    "x[1:len(x):] # del elemento 1 al len(x) - 1\n",
    "# x[len(x)]\n",
    "x[len(x) - 1] # último elemento\n",
    "x[-1] # último elemento \n",
    "x[len(x)-1:len(x)] # último elemento\n",
    "x[::-1][0] # último elemento\n",
    "\n",
    "\n",
    "# \n",
    "#[1, 2, 1, 2, 2, 1, 1, 2, 1, 2, 2, 1, 3]\n",
    "list(map(lambda x: x + 10, x))\n",
    "#[11, 12, 11, 12, 12, 11, 11, 12, 11, 12, 12, 11, 13]\n",
    "\n",
    "#filter\n",
    "list(filter(lambda x: x >= 2, x))\n",
    "\n",
    "# del\n",
    "del #objeto a eliminar"
   ]
  }
 ],
 "metadata": {
  "kernelspec": {
   "display_name": "Python 3",
   "language": "python",
   "name": "python3"
  },
  "language_info": {
   "codemirror_mode": {
    "name": "ipython",
    "version": 3
   },
   "file_extension": ".py",
   "mimetype": "text/x-python",
   "name": "python",
   "nbconvert_exporter": "python",
   "pygments_lexer": "ipython3",
   "version": "3.8.7"
  }
 },
 "nbformat": 4,
 "nbformat_minor": 5
}

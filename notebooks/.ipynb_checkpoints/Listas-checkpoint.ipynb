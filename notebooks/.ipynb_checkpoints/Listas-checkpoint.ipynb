{
 "cells": [
  {
   "cell_type": "code",
   "execution_count": null,
   "metadata": {},
   "outputs": [],
   "source": [
    "### 8 ¿Aplicar 2 operaciones con Bool?\n",
    "#< menor que\n",
    "#> mayor que\n",
    "#>= mayor o igual que\n",
    "#<= menor o igual que\n",
    "\n",
    "# and, &\n",
    "# or, |\n",
    "\n",
    "# True & True = True\n",
    "print(\"True & True:\", True & True)\n",
    "# True & False = False\n",
    "print(\"True & False:\", True & False)\n",
    "# False & True = False\n",
    "print(\"False & True:\", False & True)\n",
    "# False & False = False\n",
    "print(\"False & False:\", False & False)\n",
    "\n",
    "\n",
    "# True | True = True\n",
    "print(\"True | True\", True | True)\n",
    "# False | True = True\n",
    "print(\"False | True\", False | True)\n",
    "# True | False = True\n",
    "print(\"True | False\", True | False)\n",
    "# False | False = False \n",
    "print(\"False | False\", False | False)\n",
    "\n",
    "not (True & True) # -> False\n",
    "not (True & False) # -> True\n",
    "not (False and False) # -> True\n",
    "not (False or False) # -> True\n",
    "\n",
    "## in\n",
    "lista_temporal = [1,2,4]\n",
    "14 in lista_temporal # -> False\n",
    "\n",
    "lista_temporal = [1, 2, 4, [14]]\n",
    "14 in lista_temporal # -> False\n",
    "\n",
    "lista_temporal = [1, 2, 4, [14]]\n",
    "[14] in lista_temporal # -> True\n",
    "\n",
    "lista_lista = [[12,13], [11,12], [3], 12, 11]\n",
    "\n",
    "validar_lista = lambda lista_lista: len(list(filter(lambda x: isinstance(x, list), lista_lista))) > 0\n",
    "validar_lista(lista_lista)\n",
    "\n",
    "otra_lista = [1,23,4]\n",
    "validar_lista(otra_lista)\n",
    "\n",
    "\"Arturo\" in \"Arturo Téllez\"\n",
    "\"Mundo\" in \"Hola mundo\"\n",
    "\"mundo\" in \"Hola mundo\"\n",
    "\n",
    "\n"
   ]
  }
 ],
 "metadata": {
  "kernelspec": {
   "display_name": "Python 3",
   "language": "python",
   "name": "python3"
  },
  "language_info": {
   "codemirror_mode": {
    "name": "ipython",
    "version": 3
   },
   "file_extension": ".py",
   "mimetype": "text/x-python",
   "name": "python",
   "nbconvert_exporter": "python",
   "pygments_lexer": "ipython3",
   "version": "3.8.7"
  }
 },
 "nbformat": 4,
 "nbformat_minor": 5
}
